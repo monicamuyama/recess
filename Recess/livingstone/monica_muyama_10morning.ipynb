{
 "cells": [
  {
   "cell_type": "code",
   "execution_count": null,
   "metadata": {},
   "outputs": [],
   "source": [
    "import numpy as np\n",
    "import pandas as pd \n",
    "import matplotlib.pyplot as plt\n",
    "import seaborn as sns\n",
    "%matplotlib inline"
   ]
  },
  {
   "cell_type": "code",
   "execution_count": null,
   "metadata": {},
   "outputs": [],
   "source": [
    "#load/ read dataset\n",
    "df = pd.read_csv('heart_disease.csv')\n",
    "df.head()"
   ]
  },
  {
   "cell_type": "code",
   "execution_count": null,
   "metadata": {},
   "outputs": [],
   "source": []
  },
  {
   "cell_type": "code",
   "execution_count": null,
   "metadata": {},
   "outputs": [],
   "source": [
    "#import Machine learning libraries\n",
    "from sklearn.linear_model import LogisticRegression\n",
    "from sklearn.model_selection import train_test_split\n",
    "from sklearn.metrics import accuracy_score\n",
    "#Contol \n",
    "pd.options.display.max_columns=50\n",
    "#sns.set(style=\"darkgrid\",rc={'axe.facecolor':'#CAFIDE'})\n",
    "sns.set(style=\"darkgrid\", rc={'axes.facecolor': '#f0f0f0'})\n",
    "#Ignore warnings\n",
    "import warnings\n",
    "warnings.filterwarnings('ignore')\n"
   ]
  },
  {
   "cell_type": "code",
   "execution_count": null,
   "metadata": {},
   "outputs": [],
   "source": [
    "\"\"\"\n",
    "\n",
    "When dealing with logistic regression, it's important to store your independent data in \n",
    "x and dependent variable(target values) as y \"\"\"\n",
    "#Split data into training and testing\n",
    "X_train, X_test, y_train, y_test = train_test_split(x,y, test_size = 0.3, random_state=0)\n",
    "\n",
    "#Model Training\n",
    "model = LogisticRegression()\n",
    "model.fit(X_train, y_train)\n",
    "\n",
    "#\n",
    "y_pred = model.predict(X_test)\n"
   ]
  },
  {
   "cell_type": "code",
   "execution_count": 3,
   "metadata": {},
   "outputs": [
    {
     "name": "stdout",
     "output_type": "stream",
     "text": [
      "[1]\n"
     ]
    }
   ],
   "source": [
    "#Create a dataframe\n",
    "import numpy\n",
    "from sklearn import linear_model\n",
    "X = numpy.array([1,2,3,4,]).reshape(-1,1)\n",
    "y = numpy.array([0,0,1,1])\n",
    "\n",
    "#Model Training\n",
    "logr = linear_model.LogisticRegression()\n",
    "logr.fit(X,y)\n",
    "\n",
    "#Model Evaluation\n",
    "y_pred = logr.predict((numpy.array([3])).reshape(-1,1))\n",
    "#accuracy = accuracy_score(numpy.array(y_pred))\n",
    "\n",
    "#Display results\n",
    "print(y_pred)"
   ]
  },
  {
   "cell_type": "code",
   "execution_count": null,
   "metadata": {},
   "outputs": [],
   "source": [
    "#Decision Trees\n",
    "#Uses classification and regression\n",
    "\"\"\"\n",
    "Pros\n",
    "-easy to understand\n",
    "-can handle both regression and classification\n",
    "-Captures nonlinear relationships\n",
    "-can handle missing values or outliers\n",
    "\n",
    "Cons\n",
    "-pron to overfitting\n",
    "sensitivity to small changes\n",
    "-May not perform well with features having noisy data\n",
    "\"\"\""
   ]
  },
  {
   "cell_type": "code",
   "execution_count": null,
   "metadata": {},
   "outputs": [],
   "source": [
    "#Decision tree demonstration\n",
    "from sklearn.tree import DecisionTreeClassifier\n",
    "from sklearn.metrics import accuracy_score\n",
    "\n",
    "#Worked example is online\n",
    "#setup Django nd flask on ur environment"
   ]
  }
 ],
 "metadata": {
  "kernelspec": {
   "display_name": "Python 3",
   "language": "python",
   "name": "python3"
  },
  "language_info": {
   "codemirror_mode": {
    "name": "ipython",
    "version": 3
   },
   "file_extension": ".py",
   "mimetype": "text/x-python",
   "name": "python",
   "nbconvert_exporter": "python",
   "pygments_lexer": "ipython3",
   "version": "3.11.4"
  },
  "orig_nbformat": 4
 },
 "nbformat": 4,
 "nbformat_minor": 2
}
